{
  "nbformat": 4,
  "nbformat_minor": 0,
  "metadata": {
    "colab": {
      "provenance": [],
      "authorship_tag": "ABX9TyPSsZUzo8yegOQF93c9Ulc+",
      "include_colab_link": true
    },
    "kernelspec": {
      "name": "python3",
      "display_name": "Python 3"
    },
    "language_info": {
      "name": "python"
    }
  },
  "cells": [
    {
      "cell_type": "markdown",
      "metadata": {
        "id": "view-in-github",
        "colab_type": "text"
      },
      "source": [
        "<a href=\"https://colab.research.google.com/github/inyourT/DataAnalisDasar/blob/main/Basic_Operations_With_Numpy_Arrays.ipynb\" target=\"_parent\"><img src=\"https://colab.research.google.com/assets/colab-badge.svg\" alt=\"Open In Colab\"/></a>"
      ]
    },
    {
      "cell_type": "code",
      "execution_count": null,
      "metadata": {
        "id": "pR3fpNcfX5D3"
      },
      "outputs": [],
      "source": [
        "import numpy as np"
      ]
    },
    {
      "cell_type": "code",
      "source": [
        "array1 = np.array([1,2,3,4,5,6])\n",
        "array2 = np.array([10,20,30,40,50,60])\n",
        "\n",
        "result_add = array1 + array2\n",
        "result_multi = array1 * array2\n",
        "\n",
        "comparison = array1 > array2\n",
        "\n",
        "print(result_add)\n",
        "print(result_multi)\n",
        "print(\"Comparison:\", comparison)"
      ],
      "metadata": {
        "colab": {
          "base_uri": "https://localhost:8080/"
        },
        "id": "23ip1tmVX_aS",
        "outputId": "c92465ec-6ace-42c2-bd26-d170c81ee5d8"
      },
      "execution_count": null,
      "outputs": [
        {
          "output_type": "stream",
          "name": "stdout",
          "text": [
            "[11 22 33 44 55 66]\n",
            "[ 10  40  90 160 250 360]\n",
            "Comparison: [False False False False False False]\n"
          ]
        }
      ]
    },
    {
      "cell_type": "code",
      "source": [
        "array1 = np.array([1,2,3,4,5,6])\n",
        "array2 = np.array([10,20,30,40,50,60])\n",
        "\n",
        "scaler = 5\n",
        "result_broadcast = array1 + scaler\n",
        "\n",
        "print(\"Braodcasting result: \",result_broadcast)"
      ],
      "metadata": {
        "id": "krXZBOdIYTsM",
        "colab": {
          "base_uri": "https://localhost:8080/"
        },
        "outputId": "5f4a5cbb-acc2-4fb7-bb95-b95fb6cc1e7d"
      },
      "execution_count": null,
      "outputs": [
        {
          "output_type": "stream",
          "name": "stdout",
          "text": [
            "Braodcasting result:  [ 6  7  8  9 10 11]\n"
          ]
        }
      ]
    },
    {
      "cell_type": "code",
      "source": [
        "# Install git di Colab\n",
        "!apt-get install git\n",
        "\n",
        "# Konfigurasi identitas Git\n",
        "!git config --global user.name \"inyourT\"\n",
        "\n",
        "# Clone repositori GitHub Anda (opsional)\n",
        "!git clone https://github.com/inyourT/DataAnalisDasar\n",
        "%cd /content/DataAnalisDasar\n",
        "\n",
        "# Menambahkan, commit, dan push perubahan\n",
        "!git add .\n",
        "!git commit -m \"Updated code from Colab\"\n",
        "!git push https://github.com/inyourT/DataAnalisDasar main\n"
      ],
      "metadata": {
        "id": "dPwBz0ntXPFW",
        "colab": {
          "base_uri": "https://localhost:8080/"
        },
        "outputId": "80470af2-7375-41c3-c667-30c208a994d2"
      },
      "execution_count": 1,
      "outputs": [
        {
          "output_type": "stream",
          "name": "stdout",
          "text": [
            "Reading package lists... Done\n",
            "Building dependency tree... Done\n",
            "Reading state information... Done\n",
            "git is already the newest version (1:2.34.1-1ubuntu1.11).\n",
            "0 upgraded, 0 newly installed, 0 to remove and 49 not upgraded.\n",
            "Cloning into 'DataAnalisDasar'...\n",
            "warning: You appear to have cloned an empty repository.\n",
            "/content/DataAnalisDasar\n",
            "Author identity unknown\n",
            "\n",
            "*** Please tell me who you are.\n",
            "\n",
            "Run\n",
            "\n",
            "  git config --global user.email \"you@example.com\"\n",
            "  git config --global user.name \"Your Name\"\n",
            "\n",
            "to set your account's default identity.\n",
            "Omit --global to set the identity only in this repository.\n",
            "\n",
            "fatal: unable to auto-detect email address (got 'root@2b2c8caa0479.(none)')\n",
            "error: src refspec main does not match any\n",
            "\u001b[31merror: failed to push some refs to 'https://github.com/inyourT/DataAnalisDasar'\n",
            "\u001b[m"
          ]
        }
      ]
    },
    {
      "source": [
        "!git config --global user.name \"inyourT\"\n",
        "!git config --global user.email \"gagunatulis@gmail.com\""
      ],
      "cell_type": "code",
      "metadata": {
        "id": "w4_HsYDqlecz"
      },
      "execution_count": 4,
      "outputs": []
    },
    {
      "cell_type": "code",
      "source": [
        "!git add .\n",
        "!git commit -m \"Initial commit\""
      ],
      "metadata": {
        "colab": {
          "base_uri": "https://localhost:8080/"
        },
        "id": "hwrVA0CLlmEo",
        "outputId": "e6aac535-8b3a-4b60-fdc8-33b0d6d0a075"
      },
      "execution_count": 5,
      "outputs": [
        {
          "output_type": "stream",
          "name": "stdout",
          "text": [
            "On branch main\n",
            "\n",
            "Initial commit\n",
            "\n",
            "nothing to commit (create/copy files and use \"git add\" to track)\n"
          ]
        }
      ]
    },
    {
      "cell_type": "code",
      "source": [
        "!git clone https://github.com/inyourT/DataAnalisDasar\n",
        "%cd /content/DataAnalisDasar"
      ],
      "metadata": {
        "colab": {
          "base_uri": "https://localhost:8080/"
        },
        "id": "bWhxNC_OlkEp",
        "outputId": "919cf6d5-0a71-41f1-d297-0ed8bcfdc0b4"
      },
      "execution_count": 6,
      "outputs": [
        {
          "output_type": "stream",
          "name": "stdout",
          "text": [
            "Cloning into 'DataAnalisDasar'...\n",
            "warning: You appear to have cloned an empty repository.\n",
            "/content/DataAnalisDasar\n"
          ]
        }
      ]
    },
    {
      "cell_type": "code",
      "source": [
        "!git add .\n",
        "!git commit -m \"Updated code from Colab\"\n",
        "!git push https://github.com/inyourT/DataAnalisDasar master"
      ],
      "metadata": {
        "colab": {
          "base_uri": "https://localhost:8080/"
        },
        "id": "KeWzYajZmGxL",
        "outputId": "93a5cbb3-c795-4f8b-bfd5-edad1a70a28b"
      },
      "execution_count": 8,
      "outputs": [
        {
          "output_type": "stream",
          "name": "stdout",
          "text": [
            "error: 'DataAnalisDasar/' does not have a commit checked out\n",
            "fatal: adding files failed\n",
            "On branch main\n",
            "\n",
            "Initial commit\n",
            "\n",
            "Untracked files:\n",
            "  (use \"git add <file>...\" to include in what will be committed)\n",
            "\t\u001b[31mDataAnalisDasar/\u001b[m\n",
            "\n",
            "nothing added to commit but untracked files present (use \"git add\" to track)\n",
            "error: src refspec master does not match any\n",
            "\u001b[31merror: failed to push some refs to 'https://github.com/inyourT/DataAnalisDasar'\n",
            "\u001b[m"
          ]
        }
      ]
    }
  ]
}