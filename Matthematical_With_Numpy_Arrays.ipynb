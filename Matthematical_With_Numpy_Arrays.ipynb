{
  "nbformat": 4,
  "nbformat_minor": 0,
  "metadata": {
    "colab": {
      "provenance": [],
      "authorship_tag": "ABX9TyNdEI5sGn2JGkP2K53Pda2Y",
      "include_colab_link": true
    },
    "kernelspec": {
      "name": "python3",
      "display_name": "Python 3"
    },
    "language_info": {
      "name": "python"
    }
  },
  "cells": [
    {
      "cell_type": "markdown",
      "metadata": {
        "id": "view-in-github",
        "colab_type": "text"
      },
      "source": [
        "<a href=\"https://colab.research.google.com/github/inyourT/DataAnalisDasar/blob/main/Matthematical_With_Numpy_Arrays.ipynb\" target=\"_parent\"><img src=\"https://colab.research.google.com/assets/colab-badge.svg\" alt=\"Open In Colab\"/></a>"
      ]
    },
    {
      "cell_type": "code",
      "execution_count": 2,
      "metadata": {
        "id": "REJgVQIBYQyS"
      },
      "outputs": [],
      "source": [
        "import numpy as np"
      ]
    },
    {
      "cell_type": "code",
      "source": [
        "# menghitung akarkuadrat dari setiap angka\n",
        "array = np.array([1,4,9,16,25])\n",
        "\n",
        "result_sqrt = np.sqrt(array)\n",
        "print(result_sqrt)"
      ],
      "metadata": {
        "colab": {
          "base_uri": "https://localhost:8080/"
        },
        "id": "YvM72dAmYZfb",
        "outputId": "dbdb5d1f-fa7a-477c-9638-8f0464ac9918"
      },
      "execution_count": null,
      "outputs": [
        {
          "output_type": "stream",
          "name": "stdout",
          "text": [
            "[1. 2. 3. 4. 5.]\n"
          ]
        }
      ]
    },
    {
      "cell_type": "code",
      "source": [
        "# menghitung dan mencetak nilai sinus\n",
        "angles = np.array([0, np.pi/2, np.pi, 3*np.pi/2])\n",
        "\n",
        "result_sine = np.sin(angles)\n",
        "print(\"Sine Value:\",result_sine)"
      ],
      "metadata": {
        "colab": {
          "base_uri": "https://localhost:8080/"
        },
        "id": "0qbQ0FdXGMCz",
        "outputId": "8dbff62a-caec-42e2-875b-c7324e6fefa7"
      },
      "execution_count": 5,
      "outputs": [
        {
          "output_type": "stream",
          "name": "stdout",
          "text": [
            "Sine Value: [ 0.0000000e+00  1.0000000e+00  1.2246468e-16 -1.0000000e+00]\n"
          ]
        }
      ]
    },
    {
      "cell_type": "code",
      "source": [
        "# menghitung dan menampilkan nilai eksponensial dari setiap elemen dalam array NumPy\n",
        "array = np.array([1,2,3,4,5])\n",
        "\n",
        "result_exp = np.exp(array)\n",
        "print(\"Exponential Values :\", result_exp)"
      ],
      "metadata": {
        "colab": {
          "base_uri": "https://localhost:8080/"
        },
        "id": "WWDSbA5MVLRq",
        "outputId": "81e13771-5aab-4a9d-b8df-d1cd38f51c00"
      },
      "execution_count": 6,
      "outputs": [
        {
          "output_type": "stream",
          "name": "stdout",
          "text": [
            "Exponential Values : [  2.71828183   7.3890561   20.08553692  54.59815003 148.4131591 ]\n"
          ]
        }
      ]
    }
  ]
}