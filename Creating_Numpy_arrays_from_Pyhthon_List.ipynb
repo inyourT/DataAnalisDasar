{
  "nbformat": 4,
  "nbformat_minor": 0,
  "metadata": {
    "colab": {
      "provenance": [],
      "authorship_tag": "ABX9TyPoAkbLlYKKNX7LZ2hPcHTK",
      "include_colab_link": true
    },
    "kernelspec": {
      "name": "python3",
      "display_name": "Python 3"
    },
    "language_info": {
      "name": "python"
    }
  },
  "cells": [
    {
      "cell_type": "markdown",
      "metadata": {
        "id": "view-in-github",
        "colab_type": "text"
      },
      "source": [
        "<a href=\"https://colab.research.google.com/github/inyourT/DataAnalisDasar/blob/main/Creating_Numpy_arrays_from_Pyhthon_List.ipynb\" target=\"_parent\"><img src=\"https://colab.research.google.com/assets/colab-badge.svg\" alt=\"Open In Colab\"/></a>"
      ]
    },
    {
      "cell_type": "code",
      "execution_count": null,
      "metadata": {
        "id": "gkmMQBKt9qA-"
      },
      "outputs": [],
      "source": [
        "import numpy as np"
      ]
    },
    {
      "cell_type": "code",
      "source": [
        "python_list = [1,2,3,4,5]\n",
        "numpy_array = np.array(python_list)\n",
        "print(\"python list: \", python_list)\n",
        "print(\"Numpy Array: \", numpy_array)"
      ],
      "metadata": {
        "colab": {
          "base_uri": "https://localhost:8080/"
        },
        "id": "rYM_ua0c-kxT",
        "outputId": "4d3942f0-ae30-4fcb-9fc2-7b1ce6d0c2b4"
      },
      "execution_count": null,
      "outputs": [
        {
          "output_type": "stream",
          "name": "stdout",
          "text": [
            "python list:  [1, 2, 3, 4, 5]\n",
            "Numpy Array:  [1 2 3 4 5]\n"
          ]
        }
      ]
    },
    {
      "cell_type": "code",
      "source": [
        "nested_list = [[1,2,3], [4,5,6], [7,8,9]]\n",
        "numppy_2d_array = np.array(nested_list)\n",
        "\n",
        "print(\"Nested List:\")\n",
        "print(nested_list)\n",
        "print(\"2D Numpy Array\")\n",
        "print(numppy_2d_array)"
      ],
      "metadata": {
        "colab": {
          "base_uri": "https://localhost:8080/"
        },
        "id": "sRgWMZPk_iK8",
        "outputId": "d587a7b0-e331-4a93-fb65-d8f58957f25f"
      },
      "execution_count": null,
      "outputs": [
        {
          "output_type": "stream",
          "name": "stdout",
          "text": [
            "Nested List:\n",
            "[[1, 2, 3], [4, 5, 6], [7, 8, 9]]\n",
            "2D Numpy Array\n",
            "[[1 2 3]\n",
            " [4 5 6]\n",
            " [7 8 9]]\n"
          ]
        }
      ]
    },
    {
      "cell_type": "code",
      "source": [
        "float_list = [1,2,3,4,5]\n",
        "numpy_float_array = np.array(float_list, dtype=float)\n",
        "\n",
        "print(\"Original List:\", float_list)\n",
        "print(numpy_float_array)"
      ],
      "metadata": {
        "colab": {
          "base_uri": "https://localhost:8080/"
        },
        "id": "zogG_gPgDSkB",
        "outputId": "fcdeedf2-63e5-4632-d0c1-36d3aca1c345"
      },
      "execution_count": null,
      "outputs": [
        {
          "output_type": "stream",
          "name": "stdout",
          "text": [
            "Original List: [1, 2, 3, 4, 5]\n",
            "[1. 2. 3. 4. 5.]\n"
          ]
        }
      ]
    }
  ]
}