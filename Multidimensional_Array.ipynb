{
  "nbformat": 4,
  "nbformat_minor": 0,
  "metadata": {
    "colab": {
      "provenance": [],
      "authorship_tag": "ABX9TyN1zI4bD7BIGrxn/Ou5aZmU",
      "include_colab_link": true
    },
    "kernelspec": {
      "name": "python3",
      "display_name": "Python 3"
    },
    "language_info": {
      "name": "python"
    }
  },
  "cells": [
    {
      "cell_type": "markdown",
      "metadata": {
        "id": "view-in-github",
        "colab_type": "text"
      },
      "source": [
        "<a href=\"https://colab.research.google.com/github/inyourT/DataAnalisDasar/blob/main/Multidimensional_Array.ipynb\" target=\"_parent\"><img src=\"https://colab.research.google.com/assets/colab-badge.svg\" alt=\"Open In Colab\"/></a>"
      ]
    },
    {
      "cell_type": "code",
      "execution_count": 1,
      "metadata": {
        "id": "Gym1FHDqWXmf"
      },
      "outputs": [],
      "source": [
        "import numpy as np"
      ]
    },
    {
      "cell_type": "code",
      "source": [
        "array_2d = np.array([[1,2,3], [4,5,6]])\n",
        "\n",
        "array_3d = np.array([[1,2], [3,4], [5,6], [7,8]])\n",
        "\n",
        "print(array_2d)\n",
        "print(array_3d)"
      ],
      "metadata": {
        "id": "2Be2o_QQWc-0",
        "colab": {
          "base_uri": "https://localhost:8080/"
        },
        "outputId": "de25a740-05cf-4fb8-fcdf-445360534558"
      },
      "execution_count": 3,
      "outputs": [
        {
          "output_type": "stream",
          "name": "stdout",
          "text": [
            "[[1 2 3]\n",
            " [4 5 6]]\n",
            "[[1 2]\n",
            " [3 4]\n",
            " [5 6]\n",
            " [7 8]]\n"
          ]
        }
      ]
    },
    {
      "cell_type": "code",
      "source": [
        "array_2d = np.array([[10,20,30], [40,50,60], [70,80,90]])\n",
        "array_3d = np.array([[[1,2],[3,4]], [[5,6],[7,8]],[[9,10],[11,12]]])\n",
        "\n",
        "# element_2d = array_2d[1,2]\n",
        "# element_3d = array_3d[1,0,1]\n",
        "\n",
        "slice_2d = array_2d[:, 1:3]\n",
        "slice_3d = array_3d[1, :, :]\n",
        "\n",
        "print(slice_2d)\n",
        "print(slice_3d)"
      ],
      "metadata": {
        "colab": {
          "base_uri": "https://localhost:8080/"
        },
        "id": "BWKnssZDZjJA",
        "outputId": "a35e7c36-000d-4e86-c35c-abd59945261c"
      },
      "execution_count": 9,
      "outputs": [
        {
          "output_type": "stream",
          "name": "stdout",
          "text": [
            "[[20 30]\n",
            " [50 60]\n",
            " [80 90]]\n",
            "[[5 6]\n",
            " [7 8]]\n"
          ]
        }
      ]
    }
  ]
}